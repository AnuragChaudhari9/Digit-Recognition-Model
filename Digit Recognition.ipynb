{
 "cells": [
  {
   "cell_type": "raw",
   "id": "84076ff9",
   "metadata": {},
   "source": [
    "pip install numpy\n",
    "pip install opencv-python\n",
    "pip install matplotlib\n",
    "pip intsall tensorflow"
   ]
  },
  {
   "cell_type": "code",
   "execution_count": 1,
   "id": "e45d4e4c",
   "metadata": {
    "scrolled": true
   },
   "outputs": [],
   "source": [
    "import os\n",
    "import cv2\n",
    "import numpy as np\n",
    "import matplotlib.pyplot as plt\n",
    "import tensorflow as tf"
   ]
  },
  {
   "cell_type": "markdown",
   "id": "e664ecae",
   "metadata": {},
   "source": [
    "**Loading Data**"
   ]
  },
  {
   "cell_type": "code",
   "execution_count": 2,
   "id": "708b2263",
   "metadata": {},
   "outputs": [],
   "source": [
    "mnist = tf.keras.datasets.mnist\n",
    "(x_train,y_train),(x_test,y_test) = mnist.load_data()"
   ]
  },
  {
   "cell_type": "markdown",
   "id": "8e3e4add",
   "metadata": {},
   "source": [
    "**Normalize the data**"
   ]
  },
  {
   "cell_type": "code",
   "execution_count": 3,
   "id": "96f59041",
   "metadata": {},
   "outputs": [],
   "source": [
    "x_train = tf.keras.utils.normalize(x_train, axis=1)\n",
    "x_test = tf.keras.utils.normalize(x_test, axis=1)"
   ]
  },
  {
   "cell_type": "markdown",
   "id": "57e6cf7e",
   "metadata": {},
   "source": [
    "**Neural Network Model**"
   ]
  },
  {
   "cell_type": "code",
   "execution_count": 4,
   "id": "cd7c1c1e",
   "metadata": {},
   "outputs": [],
   "source": [
    "model = tf.keras.models.Sequential()\n",
    "model.add(tf.keras.layers.Flatten(input_shape=(28,28)))   # Flattens input into single flat layer of (28*28)\n",
    "model.add(tf.keras.layers.Dense(128, activation='relu'))  # REctified Linear Unit\n",
    "model.add(tf.keras.layers.Dense(128, activation='relu'))\n",
    "model.add(tf.keras.layers.Dense(128, activation='relu'))\n",
    "model.add(tf.keras.layers.Dense(128, activation='relu'))\n",
    "model.add(tf.keras.layers.Dense(128, activation='relu'))\n",
    "model.add(tf.keras.layers.Dense(128, activation='relu'))\n",
    "model.add(tf.keras.layers.Dense(128, activation='relu'))\n",
    "model.add(tf.keras.layers.Dense(10, activation='softmax'))  # Output layer. 10 units for 10 digits"
   ]
  },
  {
   "cell_type": "markdown",
   "id": "3d7c7206",
   "metadata": {},
   "source": [
    "**Compile the Model**"
   ]
  },
  {
   "cell_type": "code",
   "execution_count": 5,
   "id": "59ef10d3",
   "metadata": {},
   "outputs": [],
   "source": [
    "model.compile(optimizer='adam', loss='sparse_categorical_crossentropy', metrics=['sparse_categorical_accuracy'])"
   ]
  },
  {
   "cell_type": "markdown",
   "id": "cd9b2393",
   "metadata": {},
   "source": [
    "**Training the Model**"
   ]
  },
  {
   "cell_type": "code",
   "execution_count": 6,
   "id": "eadbeb39",
   "metadata": {},
   "outputs": [
    {
     "name": "stdout",
     "output_type": "stream",
     "text": [
      "Epoch 1/15\n",
      "1875/1875 [==============================] - 7s 3ms/step - loss: 0.2784 - sparse_categorical_accuracy: 0.9144\n",
      "Epoch 2/15\n",
      "1875/1875 [==============================] - 5s 3ms/step - loss: 0.1302 - sparse_categorical_accuracy: 0.9617\n",
      "Epoch 3/15\n",
      "1875/1875 [==============================] - 5s 3ms/step - loss: 0.1009 - sparse_categorical_accuracy: 0.9711\n",
      "Epoch 4/15\n",
      "1875/1875 [==============================] - 5s 3ms/step - loss: 0.0807 - sparse_categorical_accuracy: 0.9762\n",
      "Epoch 5/15\n",
      "1875/1875 [==============================] - 5s 3ms/step - loss: 0.0678 - sparse_categorical_accuracy: 0.9809\n",
      "Epoch 6/15\n",
      "1875/1875 [==============================] - 5s 3ms/step - loss: 0.0559 - sparse_categorical_accuracy: 0.9841\n",
      "Epoch 7/15\n",
      "1875/1875 [==============================] - 5s 3ms/step - loss: 0.0504 - sparse_categorical_accuracy: 0.9857\n",
      "Epoch 8/15\n",
      "1875/1875 [==============================] - 5s 3ms/step - loss: 0.0440 - sparse_categorical_accuracy: 0.9874\n",
      "Epoch 9/15\n",
      "1875/1875 [==============================] - 5s 3ms/step - loss: 0.0410 - sparse_categorical_accuracy: 0.9882\n",
      "Epoch 10/15\n",
      "1875/1875 [==============================] - 5s 3ms/step - loss: 0.0349 - sparse_categorical_accuracy: 0.9905\n",
      "Epoch 11/15\n",
      "1875/1875 [==============================] - 5s 3ms/step - loss: 0.0323 - sparse_categorical_accuracy: 0.9911\n",
      "Epoch 12/15\n",
      "1875/1875 [==============================] - 5s 3ms/step - loss: 0.0299 - sparse_categorical_accuracy: 0.9915\n",
      "Epoch 13/15\n",
      "1875/1875 [==============================] - 5s 3ms/step - loss: 0.0270 - sparse_categorical_accuracy: 0.9925\n",
      "Epoch 14/15\n",
      "1875/1875 [==============================] - 5s 3ms/step - loss: 0.0276 - sparse_categorical_accuracy: 0.9924\n",
      "Epoch 15/15\n",
      "1875/1875 [==============================] - 5s 3ms/step - loss: 0.0246 - sparse_categorical_accuracy: 0.9933\n"
     ]
    },
    {
     "data": {
      "text/plain": [
       "<keras.callbacks.History at 0x135da1890c0>"
      ]
     },
     "execution_count": 6,
     "metadata": {},
     "output_type": "execute_result"
    }
   ],
   "source": [
    "model.fit(x_train,y_train, epochs=15)"
   ]
  },
  {
   "cell_type": "markdown",
   "id": "4185b54c",
   "metadata": {},
   "source": [
    "**Saving the Model**"
   ]
  },
  {
   "cell_type": "code",
   "execution_count": 7,
   "id": "6175974c",
   "metadata": {},
   "outputs": [
    {
     "name": "stdout",
     "output_type": "stream",
     "text": [
      "INFO:tensorflow:Assets written to: digrec.model\\assets\n"
     ]
    }
   ],
   "source": [
    "model.save('digrec.model')"
   ]
  },
  {
   "cell_type": "markdown",
   "id": "0d99e56c",
   "metadata": {},
   "source": [
    "**Running the Model**"
   ]
  },
  {
   "cell_type": "code",
   "execution_count": 8,
   "id": "4c2b1d2e",
   "metadata": {},
   "outputs": [],
   "source": [
    "model = tf.keras.models.load_model('digrec.model')"
   ]
  },
  {
   "cell_type": "code",
   "execution_count": 9,
   "id": "b983ba66",
   "metadata": {},
   "outputs": [
    {
     "name": "stdout",
     "output_type": "stream",
     "text": [
      "313/313 [==============================] - 1s 2ms/step - loss: 0.1236 - sparse_categorical_accuracy: 0.9788\n"
     ]
    }
   ],
   "source": [
    "loss, accuracy = model.evaluate(x_test, y_test)"
   ]
  },
  {
   "cell_type": "code",
   "execution_count": 17,
   "id": "cb211094",
   "metadata": {},
   "outputs": [
    {
     "name": "stdout",
     "output_type": "stream",
     "text": [
      "1/1 [==============================] - 0s 22ms/step\n",
      "This digit is probably 5\n"
     ]
    },
    {
     "data": {
      "image/png": "[encoded data removed]",
      "text/plain": [
       "<Figure size 432x288 with 1 Axes>"
      ]
     },
     "metadata": {
      "needs_background": "light"
     },
     "output_type": "display_data"
    },
    {
     "name": "stdout",
     "output_type": "stream",
     "text": [
      "[[0. 0. 0. 0. 0. 1. 0. 0. 0. 0.]]\n",
      "1/1 [==============================] - 0s 17ms/step\n",
      "This digit is probably 3\n"
     ]
    },
    {
     "data": {
      "image/png": "[encoded data removed]",
      "text/plain": [
       "<Figure size 432x288 with 1 Axes>"
      ]
     },
     "metadata": {
      "needs_background": "light"
     },
     "output_type": "display_data"
    },
    {
     "name": "stdout",
     "output_type": "stream",
     "text": [
      "[[0. 0. 0. 1. 0. 0. 0. 0. 0. 0.]]\n",
      "1/1 [==============================] - 0s 15ms/step\n",
      "This digit is probably 8\n"
     ]
    },
    {
     "data": {
      "image/png": "[encoded data removed]",
      "text/plain": [
       "<Figure size 432x288 with 1 Axes>"
      ]
     },
     "metadata": {
      "needs_background": "light"
     },
     "output_type": "display_data"
    },
    {
     "name": "stdout",
     "output_type": "stream",
     "text": [
      "[[0. 0. 0. 0. 0. 0. 0. 0. 1. 0.]]\n",
      "1/1 [==============================] - 0s 24ms/step\n",
      "This digit is probably 6\n"
     ]
    },
    {
     "data": {
      "image/png": "[encoded data removed]",
      "text/plain": [
       "<Figure size 432x288 with 1 Axes>"
      ]
     },
     "metadata": {
      "needs_background": "light"
     },
     "output_type": "display_data"
    },
    {
     "name": "stdout",
     "output_type": "stream",
     "text": [
      "[[0. 0. 0. 0. 0. 0. 1. 0. 0. 0.]]\n",
      "1/1 [==============================] - 0s 15ms/step\n",
      "This digit is probably 2\n"
     ]
    },
    {
     "data": {
      "image/png": "[encoded data removed]",
      "text/plain": [
       "<Figure size 432x288 with 1 Axes>"
      ]
     },
     "metadata": {
      "needs_background": "light"
     },
     "output_type": "display_data"
    },
    {
     "name": "stdout",
     "output_type": "stream",
     "text": [
      "[[0. 0. 1. 0. 0. 0. 0. 0. 0. 0.]]\n",
      "1/1 [==============================] - 0s 33ms/step\n",
      "This digit is probably 6\n"
     ]
    },
    {
     "data": {
      "image/png": "[encoded data removed]",
      "text/plain": [
       "<Figure size 432x288 with 1 Axes>"
      ]
     },
     "metadata": {
      "needs_background": "light"
     },
     "output_type": "display_data"
    },
    {
     "name": "stdout",
     "output_type": "stream",
     "text": [
      "[[0. 0. 0. 0. 0. 0. 1. 0. 0. 0.]]\n",
      "1/1 [==============================] - 0s 18ms/step\n",
      "This digit is probably 6\n"
     ]
    },
    {
     "data": {
      "image/png": "[encoded data removed]",
      "text/plain": [
       "<Figure size 432x288 with 1 Axes>"
      ]
     },
     "metadata": {
      "needs_background": "light"
     },
     "output_type": "display_data"
    },
    {
     "name": "stdout",
     "output_type": "stream",
     "text": [
      "[[0. 0. 0. 0. 0. 0. 1. 0. 0. 0.]]\n",
      "1/1 [==============================] - 0s 17ms/step\n",
      "This digit is probably 1\n"
     ]
    },
    {
     "data": {
      "image/png": "[encoded data removed]",
      "text/plain": [
       "<Figure size 432x288 with 1 Axes>"
      ]
     },
     "metadata": {
      "needs_background": "light"
     },
     "output_type": "display_data"
    },
    {
     "name": "stdout",
     "output_type": "stream",
     "text": [
      "[[0. 1. 0. 0. 0. 0. 0. 0. 0. 0.]]\n",
      "1/1 [==============================] - 0s 15ms/step\n",
      "This digit is probably 6\n"
     ]
    },
    {
     "data": {
      "image/png": "[encoded data removed]",
      "text/plain": [
       "<Figure size 432x288 with 1 Axes>"
      ]
     },
     "metadata": {
      "needs_background": "light"
     },
     "output_type": "display_data"
    },
    {
     "name": "stdout",
     "output_type": "stream",
     "text": [
      "[[0. 0. 0. 0. 0. 0. 1. 0. 0. 0.]]\n",
      "1/1 [==============================] - 0s 42ms/step\n",
      "This digit is probably 0\n"
     ]
    },
    {
     "data": {
      "image/png": "[encoded data removed]",
      "text/plain": [
       "<Figure size 432x288 with 1 Axes>"
      ]
     },
     "metadata": {
      "needs_background": "light"
     },
     "output_type": "display_data"
    },
    {
     "name": "stdout",
     "output_type": "stream",
     "text": [
      "[[1. 0. 0. 0. 0. 0. 0. 0. 0. 0.]]\n",
      "1/1 [==============================] - 0s 15ms/step\n",
      "This digit is probably 4\n"
     ]
    },
    {
     "data": {
      "image/png": "[encoded data removed]",
      "text/plain": [
       "<Figure size 432x288 with 1 Axes>"
      ]
     },
     "metadata": {
      "needs_background": "light"
     },
     "output_type": "display_data"
    },
    {
     "name": "stdout",
     "output_type": "stream",
     "text": [
      "[[0.0000000e+00 0.0000000e+00 0.0000000e+00 0.0000000e+00 1.0000000e+00\n",
      "  0.0000000e+00 1.8315611e-20 0.0000000e+00 0.0000000e+00 0.0000000e+00]]\n",
      "1/1 [==============================] - 0s 15ms/step\n",
      "This digit is probably 7\n"
     ]
    },
    {
     "data": {
      "image/png": "[encoded data removed]",
      "text/plain": [
       "<Figure size 432x288 with 1 Axes>"
      ]
     },
     "metadata": {
      "needs_background": "light"
     },
     "output_type": "display_data"
    },
    {
     "name": "stdout",
     "output_type": "stream",
     "text": [
      "[[0. 0. 0. 0. 0. 0. 0. 1. 0. 0.]]\n"
     ]
    }
   ],
   "source": [
    "image_number = 1\n",
    "while os.path.isfile(f\"Digits/Digit_{image_number}.png\"):\n",
    "    try:\n",
    "        img = cv2.imread(f\"Digits/Digit_{image_number}.png\")[:,:,0]\n",
    "        img = np.invert(np.array([img]))\n",
    "        prediction = model.predict(img)\n",
    "        print(f\"This digit is probably {np.argmax(prediction)}\")\n",
    "        plt.imshow(img[0], cmap=plt.cm.binary)\n",
    "        plt.show()\n",
    "        print(prediction)\n",
    "    except:\n",
    "        print(\"Error!\")\n",
    "    finally:\n",
    "        image_number+=1\n",
    "        \n"
   ]
  },
  {
   "cell_type": "code",
   "execution_count": null,
   "id": "7b94e1db",
   "metadata": {},
   "outputs": [],
   "source": []
  }
 ],
 "metadata": {
  "kernelspec": {
   "display_name": "Python 3 (ipykernel)",
   "language": "python",
   "name": "python3"
  },
  "language_info": {
   "codemirror_mode": {
    "name": "ipython",
    "version": 3
   },
   "file_extension": ".py",
   "mimetype": "text/x-python",
   "name": "python",
   "nbconvert_exporter": "python",
   "pygments_lexer": "ipython3",
   "version": "3.10.5"
  }
 },
 "nbformat": 4,
 "nbformat_minor": 5
}
